{
  "nbformat": 4,
  "nbformat_minor": 0,
  "metadata": {
    "colab": {
      "provenance": [],
      "authorship_tag": "ABX9TyMeUZd4/KwtyvYvJz85ZSKb",
      "include_colab_link": true
    },
    "kernelspec": {
      "name": "python3",
      "display_name": "Python 3"
    },
    "language_info": {
      "name": "python"
    }
  },
  "cells": [
    {
      "cell_type": "markdown",
      "metadata": {
        "id": "view-in-github",
        "colab_type": "text"
      },
      "source": [
        "<a href=\"https://colab.research.google.com/github/littleqiu1/introduction-to-computer/blob/main/0320%E5%AF%A6%E7%BF%92.ipynb\" target=\"_parent\"><img src=\"https://colab.research.google.com/assets/colab-badge.svg\" alt=\"Open In Colab\"/></a>"
      ]
    },
    {
      "cell_type": "code",
      "execution_count": null,
      "metadata": {
        "id": "nMdbUA6Tt3BC"
      },
      "outputs": [],
      "source": [
        "x,y,z=10,20,30"
      ]
    },
    {
      "cell_type": "code",
      "source": [
        "print(x,y,z)"
      ],
      "metadata": {
        "colab": {
          "base_uri": "https://localhost:8080/"
        },
        "id": "W-zobV-Jusjm",
        "outputId": "1aeb7751-ef44-435f-d91e-7a5cfdc0e511"
      },
      "execution_count": null,
      "outputs": [
        {
          "output_type": "stream",
          "name": "stdout",
          "text": [
            "10 20 30\n"
          ]
        }
      ]
    },
    {
      "cell_type": "code",
      "source": [
        "x,y=10,20"
      ],
      "metadata": {
        "id": "1E3CtotLuvj3"
      },
      "execution_count": null,
      "outputs": []
    },
    {
      "cell_type": "code",
      "source": [
        "print(x,y)"
      ],
      "metadata": {
        "colab": {
          "base_uri": "https://localhost:8080/"
        },
        "id": "ARZrDENWuzx-",
        "outputId": "1a0da541-9e2c-40dc-e1a1-c35482f84660"
      },
      "execution_count": null,
      "outputs": [
        {
          "output_type": "stream",
          "name": "stdout",
          "text": [
            "10 20\n"
          ]
        }
      ]
    },
    {
      "cell_type": "code",
      "source": [
        "y=10==5"
      ],
      "metadata": {
        "id": "rANzEsRlu2if"
      },
      "execution_count": null,
      "outputs": []
    },
    {
      "cell_type": "code",
      "source": [
        "print(y)"
      ],
      "metadata": {
        "colab": {
          "base_uri": "https://localhost:8080/"
        },
        "id": "MBGP60mKvHeG",
        "outputId": "bf5ee52a-bc59-4543-bced-7f9db1fbb3a4"
      },
      "execution_count": null,
      "outputs": [
        {
          "output_type": "stream",
          "name": "stdout",
          "text": [
            "False\n"
          ]
        }
      ]
    },
    {
      "cell_type": "code",
      "source": [
        "y=10!=10"
      ],
      "metadata": {
        "id": "mfTg_nj8vJr-"
      },
      "execution_count": null,
      "outputs": []
    },
    {
      "cell_type": "code",
      "source": [
        "print(y)"
      ],
      "metadata": {
        "colab": {
          "base_uri": "https://localhost:8080/"
        },
        "id": "HtRdz33ZvRiO",
        "outputId": "a4e07eb8-c958-4787-83a8-c5b59e869563"
      },
      "execution_count": null,
      "outputs": [
        {
          "output_type": "stream",
          "name": "stdout",
          "text": [
            "False\n"
          ]
        }
      ]
    },
    {
      "cell_type": "code",
      "source": [
        "x=(10>8)and(10>20)"
      ],
      "metadata": {
        "id": "rY1lSkzhvUgm"
      },
      "execution_count": null,
      "outputs": []
    },
    {
      "cell_type": "code",
      "source": [
        "print(x)"
      ],
      "metadata": {
        "colab": {
          "base_uri": "https://localhost:8080/"
        },
        "id": "3_PwlckFvz_m",
        "outputId": "a540b117-5f6e-47b8-ff79-4fd3294b77dc"
      },
      "execution_count": null,
      "outputs": [
        {
          "output_type": "stream",
          "name": "stdout",
          "text": [
            "False\n"
          ]
        }
      ]
    },
    {
      "cell_type": "code",
      "source": [
        "x=(10>8)or(20>10)"
      ],
      "metadata": {
        "id": "DdVB33rVv16O"
      },
      "execution_count": null,
      "outputs": []
    },
    {
      "cell_type": "code",
      "source": [
        "print(x)"
      ],
      "metadata": {
        "colab": {
          "base_uri": "https://localhost:8080/"
        },
        "id": "Nsa7I_JuwUHV",
        "outputId": "ad5b0697-ce84-4efd-a176-c9485da5ab40"
      },
      "execution_count": null,
      "outputs": [
        {
          "output_type": "stream",
          "name": "stdout",
          "text": [
            "True\n"
          ]
        }
      ]
    },
    {
      "cell_type": "code",
      "source": [
        "x=not(10<8)"
      ],
      "metadata": {
        "id": "WdGS_TziwWB9"
      },
      "execution_count": null,
      "outputs": []
    },
    {
      "cell_type": "code",
      "source": [
        "print(x)"
      ],
      "metadata": {
        "colab": {
          "base_uri": "https://localhost:8080/"
        },
        "id": "N4rLMuB_wj81",
        "outputId": "f9194dd1-5883-455d-c5c3-ebcb624e31b7"
      },
      "execution_count": null,
      "outputs": [
        {
          "output_type": "stream",
          "name": "stdout",
          "text": [
            "True\n"
          ]
        }
      ]
    },
    {
      "cell_type": "code",
      "source": [
        "import random"
      ],
      "metadata": {
        "id": "sPjN3DFNzxoz"
      },
      "execution_count": 2,
      "outputs": []
    },
    {
      "cell_type": "code",
      "source": [
        "print(random.randint(1,10))\n",
        "print(random.random())\n",
        "print(random.uniform(1.1,5.4))\n",
        "print(random.choice('Hello'))\n",
        "print(random.randrange(1,100,2))"
      ],
      "metadata": {
        "colab": {
          "base_uri": "https://localhost:8080/"
        },
        "id": "DBN-q_B7wnGO",
        "outputId": "f77bac68-dfdd-418d-a490-24ef404e83b0"
      },
      "execution_count": 3,
      "outputs": [
        {
          "output_type": "stream",
          "name": "stdout",
          "text": [
            "7\n",
            "0.510848920910802\n",
            "2.910673816516062\n",
            "e\n",
            "29\n"
          ]
        }
      ]
    },
    {
      "cell_type": "code",
      "source": [
        "no=input(\"輸入你的學號:\")\n",
        "print(no)\n"
      ],
      "metadata": {
        "colab": {
          "base_uri": "https://localhost:8080/"
        },
        "id": "uxbmsrMVxYAk",
        "outputId": "1521e333-5deb-46c9-8ec3-2d1f1807211f"
      },
      "execution_count": null,
      "outputs": [
        {
          "output_type": "stream",
          "name": "stdout",
          "text": [
            "輸入你的學號:412571126\n",
            "412571126\n"
          ]
        }
      ]
    },
    {
      "cell_type": "code",
      "source": [
        "numbers=[1,2,3,4,5]\n"
      ],
      "metadata": {
        "id": "7Lsheqr7ztR-"
      },
      "execution_count": null,
      "outputs": []
    },
    {
      "cell_type": "code",
      "source": [
        "print(sum(numbers))\n"
      ],
      "metadata": {
        "colab": {
          "base_uri": "https://localhost:8080/"
        },
        "id": "1UURqftQ0cpx",
        "outputId": "ba22d2dd-295b-4300-9468-c6c27bbc64a9"
      },
      "execution_count": null,
      "outputs": [
        {
          "output_type": "stream",
          "name": "stdout",
          "text": [
            "15\n"
          ]
        }
      ]
    },
    {
      "cell_type": "code",
      "source": [
        "no=input(\"輸入你的名子:\")\n",
        "print(no)"
      ],
      "metadata": {
        "colab": {
          "base_uri": "https://localhost:8080/"
        },
        "id": "Dc1wAt5u0gJS",
        "outputId": "e3502db6-7ce9-4945-b1c2-acefc422cf49"
      },
      "execution_count": null,
      "outputs": [
        {
          "output_type": "stream",
          "name": "stdout",
          "text": [
            "輸入你的名子:邱湧棨\n",
            "邱湧棨\n"
          ]
        }
      ]
    },
    {
      "cell_type": "code",
      "source": [
        "print(random.randint(5,100))"
      ],
      "metadata": {
        "id": "H5lMyTjO1AXN",
        "colab": {
          "base_uri": "https://localhost:8080/"
        },
        "outputId": "9795b829-152d-4527-adc0-66b508be29ed"
      },
      "execution_count": 4,
      "outputs": [
        {
          "output_type": "stream",
          "name": "stdout",
          "text": [
            "66\n"
          ]
        }
      ]
    },
    {
      "cell_type": "code",
      "source": [],
      "metadata": {
        "id": "Quxxp8nX04DI"
      },
      "execution_count": null,
      "outputs": []
    }
  ]
}